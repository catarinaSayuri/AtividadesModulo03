{
 "cells": [
  {
   "cell_type": "code",
   "execution_count": 5,
   "id": "d5975592",
   "metadata": {},
   "outputs": [],
   "source": [
    "# Etapa 1: Importação das bibliotecas necessárias\n",
    "import pandas as pd\n",
    "import numpy as np\n",
    "import matplotlib.pyplot as plt\n",
    "import seaborn as sns\n",
    "from scipy import stats\n",
    "from sklearn.preprocessing import MinMaxScaler\n"
   ]
  },
  {
   "cell_type": "code",
   "execution_count": 6,
   "id": "13960ad6",
   "metadata": {},
   "outputs": [],
   "source": [
    "# Etapa 2: Carregamento do arquivo CSV em um DataFrame\n",
    "\n",
    "df = pd.read_csv('campeonato-brasileiro-full.csv')\n",
    "df = pd.DataFrame() \n"
   ]
  },
  {
   "cell_type": "code",
   "execution_count": 7,
   "id": "f1f16fd1",
   "metadata": {},
   "outputs": [
    {
     "data": {
      "text/html": [
       "<div>\n",
       "<style scoped>\n",
       "    .dataframe tbody tr th:only-of-type {\n",
       "        vertical-align: middle;\n",
       "    }\n",
       "\n",
       "    .dataframe tbody tr th {\n",
       "        vertical-align: top;\n",
       "    }\n",
       "\n",
       "    .dataframe thead th {\n",
       "        text-align: right;\n",
       "    }\n",
       "</style>\n",
       "<table border=\"1\" class=\"dataframe\">\n",
       "  <thead>\n",
       "    <tr style=\"text-align: right;\">\n",
       "      <th></th>\n",
       "    </tr>\n",
       "  </thead>\n",
       "  <tbody>\n",
       "  </tbody>\n",
       "</table>\n",
       "</div>"
      ],
      "text/plain": [
       "Empty DataFrame\n",
       "Columns: []\n",
       "Index: []"
      ]
     },
     "metadata": {},
     "output_type": "display_data"
    }
   ],
   "source": [
    "# Etapa 3: Visualização das primeiras linhas do DataFrame (head)\n",
    "display(df.head())\n"
   ]
  },
  {
   "cell_type": "code",
   "execution_count": 14,
   "id": "bdb21e1f",
   "metadata": {},
   "outputs": [
    {
     "ename": "ValueError",
     "evalue": "Cannot describe a DataFrame without columns",
     "output_type": "error",
     "traceback": [
      "\u001b[31m---------------------------------------------------------------------------\u001b[39m",
      "\u001b[31mValueError\u001b[39m                                Traceback (most recent call last)",
      "\u001b[36mCell\u001b[39m\u001b[36m \u001b[39m\u001b[32mIn[14]\u001b[39m\u001b[32m, line 2\u001b[39m\n\u001b[32m      1\u001b[39m \u001b[38;5;66;03m# Etapa 5: Estatísticas descritivas básicas (describe)\u001b[39;00m\n\u001b[32m----> \u001b[39m\u001b[32m2\u001b[39m \u001b[38;5;28mprint\u001b[39m(\u001b[43mdf\u001b[49m\u001b[43m.\u001b[49m\u001b[43mdescribe\u001b[49m\u001b[43m(\u001b[49m\u001b[43m)\u001b[49m)\n",
      "\u001b[36mFile \u001b[39m\u001b[32mc:\\Users\\Inteli\\AppData\\Local\\Programs\\Python\\Python313\\Lib\\site-packages\\pandas\\core\\generic.py:11995\u001b[39m, in \u001b[36mNDFrame.describe\u001b[39m\u001b[34m(self, percentiles, include, exclude)\u001b[39m\n\u001b[32m  11753\u001b[39m \u001b[38;5;129m@final\u001b[39m\n\u001b[32m  11754\u001b[39m \u001b[38;5;28;01mdef\u001b[39;00m\u001b[38;5;250m \u001b[39m\u001b[34mdescribe\u001b[39m(\n\u001b[32m  11755\u001b[39m     \u001b[38;5;28mself\u001b[39m,\n\u001b[32m   (...)\u001b[39m\u001b[32m  11758\u001b[39m     exclude=\u001b[38;5;28;01mNone\u001b[39;00m,\n\u001b[32m  11759\u001b[39m ) -> Self:\n\u001b[32m  11760\u001b[39m \u001b[38;5;250m    \u001b[39m\u001b[33;03m\"\"\"\u001b[39;00m\n\u001b[32m  11761\u001b[39m \u001b[33;03m    Generate descriptive statistics.\u001b[39;00m\n\u001b[32m  11762\u001b[39m \n\u001b[32m   (...)\u001b[39m\u001b[32m  11993\u001b[39m \u001b[33;03m    max            NaN      3.0\u001b[39;00m\n\u001b[32m  11994\u001b[39m \u001b[33;03m    \"\"\"\u001b[39;00m\n\u001b[32m> \u001b[39m\u001b[32m11995\u001b[39m     \u001b[38;5;28;01mreturn\u001b[39;00m \u001b[43mdescribe_ndframe\u001b[49m\u001b[43m(\u001b[49m\n\u001b[32m  11996\u001b[39m \u001b[43m        \u001b[49m\u001b[43mobj\u001b[49m\u001b[43m=\u001b[49m\u001b[38;5;28;43mself\u001b[39;49m\u001b[43m,\u001b[49m\n\u001b[32m  11997\u001b[39m \u001b[43m        \u001b[49m\u001b[43minclude\u001b[49m\u001b[43m=\u001b[49m\u001b[43minclude\u001b[49m\u001b[43m,\u001b[49m\n\u001b[32m  11998\u001b[39m \u001b[43m        \u001b[49m\u001b[43mexclude\u001b[49m\u001b[43m=\u001b[49m\u001b[43mexclude\u001b[49m\u001b[43m,\u001b[49m\n\u001b[32m  11999\u001b[39m \u001b[43m        \u001b[49m\u001b[43mpercentiles\u001b[49m\u001b[43m=\u001b[49m\u001b[43mpercentiles\u001b[49m\u001b[43m,\u001b[49m\n\u001b[32m  12000\u001b[39m \u001b[43m    \u001b[49m\u001b[43m)\u001b[49m.__finalize__(\u001b[38;5;28mself\u001b[39m, method=\u001b[33m\"\u001b[39m\u001b[33mdescribe\u001b[39m\u001b[33m\"\u001b[39m)\n",
      "\u001b[36mFile \u001b[39m\u001b[32mc:\\Users\\Inteli\\AppData\\Local\\Programs\\Python\\Python313\\Lib\\site-packages\\pandas\\core\\methods\\describe.py:91\u001b[39m, in \u001b[36mdescribe_ndframe\u001b[39m\u001b[34m(obj, include, exclude, percentiles)\u001b[39m\n\u001b[32m     87\u001b[39m     describer = SeriesDescriber(\n\u001b[32m     88\u001b[39m         obj=cast(\u001b[33m\"\u001b[39m\u001b[33mSeries\u001b[39m\u001b[33m\"\u001b[39m, obj),\n\u001b[32m     89\u001b[39m     )\n\u001b[32m     90\u001b[39m \u001b[38;5;28;01melse\u001b[39;00m:\n\u001b[32m---> \u001b[39m\u001b[32m91\u001b[39m     describer = \u001b[43mDataFrameDescriber\u001b[49m\u001b[43m(\u001b[49m\n\u001b[32m     92\u001b[39m \u001b[43m        \u001b[49m\u001b[43mobj\u001b[49m\u001b[43m=\u001b[49m\u001b[43mcast\u001b[49m\u001b[43m(\u001b[49m\u001b[33;43m\"\u001b[39;49m\u001b[33;43mDataFrame\u001b[39;49m\u001b[33;43m\"\u001b[39;49m\u001b[43m,\u001b[49m\u001b[43m \u001b[49m\u001b[43mobj\u001b[49m\u001b[43m)\u001b[49m\u001b[43m,\u001b[49m\n\u001b[32m     93\u001b[39m \u001b[43m        \u001b[49m\u001b[43minclude\u001b[49m\u001b[43m=\u001b[49m\u001b[43minclude\u001b[49m\u001b[43m,\u001b[49m\n\u001b[32m     94\u001b[39m \u001b[43m        \u001b[49m\u001b[43mexclude\u001b[49m\u001b[43m=\u001b[49m\u001b[43mexclude\u001b[49m\u001b[43m,\u001b[49m\n\u001b[32m     95\u001b[39m \u001b[43m    \u001b[49m\u001b[43m)\u001b[49m\n\u001b[32m     97\u001b[39m result = describer.describe(percentiles=percentiles)\n\u001b[32m     98\u001b[39m \u001b[38;5;28;01mreturn\u001b[39;00m cast(NDFrameT, result)\n",
      "\u001b[36mFile \u001b[39m\u001b[32mc:\\Users\\Inteli\\AppData\\Local\\Programs\\Python\\Python313\\Lib\\site-packages\\pandas\\core\\methods\\describe.py:162\u001b[39m, in \u001b[36mDataFrameDescriber.__init__\u001b[39m\u001b[34m(self, obj, include, exclude)\u001b[39m\n\u001b[32m    159\u001b[39m \u001b[38;5;28mself\u001b[39m.exclude = exclude\n\u001b[32m    161\u001b[39m \u001b[38;5;28;01mif\u001b[39;00m obj.ndim == \u001b[32m2\u001b[39m \u001b[38;5;129;01mand\u001b[39;00m obj.columns.size == \u001b[32m0\u001b[39m:\n\u001b[32m--> \u001b[39m\u001b[32m162\u001b[39m     \u001b[38;5;28;01mraise\u001b[39;00m \u001b[38;5;167;01mValueError\u001b[39;00m(\u001b[33m\"\u001b[39m\u001b[33mCannot describe a DataFrame without columns\u001b[39m\u001b[33m\"\u001b[39m)\n\u001b[32m    164\u001b[39m \u001b[38;5;28msuper\u001b[39m().\u001b[34m__init__\u001b[39m(obj)\n",
      "\u001b[31mValueError\u001b[39m: Cannot describe a DataFrame without columns"
     ]
    }
   ],
   "source": [
    "# Etapa 5: Estatísticas descritivas básicas (describe)\n",
    "print(df.describe())\n"
   ]
  },
  {
   "cell_type": "code",
   "execution_count": 10,
   "id": "78601956",
   "metadata": {},
   "outputs": [
    {
     "name": "stdout",
     "output_type": "stream",
     "text": [
      "Series([], dtype: float64)\n"
     ]
    }
   ],
   "source": [
    "# Etapa 6: Contagem de valores ausentes por coluna\n",
    "print(df.isnull().sum())\n"
   ]
  },
  {
   "cell_type": "code",
   "execution_count": null,
   "id": "d3c9fd76",
   "metadata": {},
   "outputs": [],
   "source": [
    "# Etapa 7: Tratamento de valores ausentes\n",
    "    \n",
    "df['arena'].fillna('Desconhecido', inplace=True)\n",
    "print(df.isnull().sum())"
   ]
  },
  {
   "cell_type": "code",
   "execution_count": 9,
   "id": "152d9917",
   "metadata": {},
   "outputs": [
    {
     "ename": "KeyError",
     "evalue": "'mandante_placar'",
     "output_type": "error",
     "traceback": [
      "\u001b[31m---------------------------------------------------------------------------\u001b[39m",
      "\u001b[31mKeyError\u001b[39m                                  Traceback (most recent call last)",
      "\u001b[36mCell\u001b[39m\u001b[36m \u001b[39m\u001b[32mIn[9]\u001b[39m\u001b[32m, line 2\u001b[39m\n\u001b[32m      1\u001b[39m \u001b[38;5;66;03m# Etapa 8: Identificação de outliers (Z-Score em mandante_placar e visitante_placar)\u001b[39;00m\n\u001b[32m----> \u001b[39m\u001b[32m2\u001b[39m df[\u001b[33m'\u001b[39m\u001b[33mz_score_mandante\u001b[39m\u001b[33m'\u001b[39m] = np.abs(stats.zscore(\u001b[43mdf\u001b[49m\u001b[43m[\u001b[49m\u001b[33;43m'\u001b[39;49m\u001b[33;43mmandante_placar\u001b[39;49m\u001b[33;43m'\u001b[39;49m\u001b[43m]\u001b[49m))\n\u001b[32m      3\u001b[39m df[\u001b[33m'\u001b[39m\u001b[33mz_score_visitante\u001b[39m\u001b[33m'\u001b[39m] = np.abs(stats.zscore(df[\u001b[33m'\u001b[39m\u001b[33mvisitante_placar\u001b[39m\u001b[33m'\u001b[39m]))\n\u001b[32m      5\u001b[39m \u001b[38;5;66;03m# Um limiar comum para identificar outliers com Z-score é 3.\u001b[39;00m\n",
      "\u001b[36mFile \u001b[39m\u001b[32mc:\\Users\\Inteli\\AppData\\Local\\Programs\\Python\\Python313\\Lib\\site-packages\\pandas\\core\\frame.py:4107\u001b[39m, in \u001b[36mDataFrame.__getitem__\u001b[39m\u001b[34m(self, key)\u001b[39m\n\u001b[32m   4105\u001b[39m \u001b[38;5;28;01mif\u001b[39;00m \u001b[38;5;28mself\u001b[39m.columns.nlevels > \u001b[32m1\u001b[39m:\n\u001b[32m   4106\u001b[39m     \u001b[38;5;28;01mreturn\u001b[39;00m \u001b[38;5;28mself\u001b[39m._getitem_multilevel(key)\n\u001b[32m-> \u001b[39m\u001b[32m4107\u001b[39m indexer = \u001b[38;5;28;43mself\u001b[39;49m\u001b[43m.\u001b[49m\u001b[43mcolumns\u001b[49m\u001b[43m.\u001b[49m\u001b[43mget_loc\u001b[49m\u001b[43m(\u001b[49m\u001b[43mkey\u001b[49m\u001b[43m)\u001b[49m\n\u001b[32m   4108\u001b[39m \u001b[38;5;28;01mif\u001b[39;00m is_integer(indexer):\n\u001b[32m   4109\u001b[39m     indexer = [indexer]\n",
      "\u001b[36mFile \u001b[39m\u001b[32mc:\\Users\\Inteli\\AppData\\Local\\Programs\\Python\\Python313\\Lib\\site-packages\\pandas\\core\\indexes\\range.py:417\u001b[39m, in \u001b[36mRangeIndex.get_loc\u001b[39m\u001b[34m(self, key)\u001b[39m\n\u001b[32m    415\u001b[39m         \u001b[38;5;28;01mraise\u001b[39;00m \u001b[38;5;167;01mKeyError\u001b[39;00m(key) \u001b[38;5;28;01mfrom\u001b[39;00m\u001b[38;5;250m \u001b[39m\u001b[34;01merr\u001b[39;00m\n\u001b[32m    416\u001b[39m \u001b[38;5;28;01mif\u001b[39;00m \u001b[38;5;28misinstance\u001b[39m(key, Hashable):\n\u001b[32m--> \u001b[39m\u001b[32m417\u001b[39m     \u001b[38;5;28;01mraise\u001b[39;00m \u001b[38;5;167;01mKeyError\u001b[39;00m(key)\n\u001b[32m    418\u001b[39m \u001b[38;5;28mself\u001b[39m._check_indexing_error(key)\n\u001b[32m    419\u001b[39m \u001b[38;5;28;01mraise\u001b[39;00m \u001b[38;5;167;01mKeyError\u001b[39;00m(key)\n",
      "\u001b[31mKeyError\u001b[39m: 'mandante_placar'"
     ]
    }
   ],
   "source": [
    "# Etapa 8: Identificação de outliers (Z-Score em mandante_placar e visitante_placar)\n",
    "df['z_score_mandante'] = np.abs(stats.zscore(df['mandante_placar']))\n",
    "df['z_score_visitante'] = np.abs(stats.zscore(df['visitante_placar']))\n",
    "\n",
    "# Um limiar comum para identificar outliers com Z-score é 3.\n",
    "threshold = 3\n",
    "outliers = df[(df['z_score_mandante'] > threshold) | (df['z_score_visitante'] > threshold)]\n",
    "print(f\"Encontrados {len(outliers)} jogos considerados outliers com Z-score > {threshold}\")\n",
    "display(outliers[['data', 'mandante', 'visitante', 'mandante_placar', 'visitante_placar']].head())\n",
    "\n"
   ]
  },
  {
   "cell_type": "code",
   "execution_count": null,
   "id": "dd867882",
   "metadata": {},
   "outputs": [],
   "source": [
    "# Etapa 9: Remoção ou tratamento dos outliers identificados\n",
    "print(f\"Tamanho original do DataFrame: {df.shape}\")\n",
    "df_sem_outliers = df[(df['z_score_mandante'] <= threshold) & (df['z_score_visitante'] <= threshold)]\n",
    "print(f\"Tamanho do DataFrame sem outliers: {df_sem_outliers.shape}\")\n",
    "    \n",
    "# Para o resto do script, vamos usar o DataFrame sem outliers e remover as colunas de Z-score\n",
    "df = df_sem_outliers.drop(['z_score_mandante', 'z_score_visitante'], axis=1).copy()"
   ]
  },
  {
   "cell_type": "code",
   "execution_count": null,
   "id": "e710d62d",
   "metadata": {},
   "outputs": [],
   "source": [
    "# Etapa 10: Normalização de uma coluna numérica (Min-Max Scaling)\n",
    "scaler = MinMaxScaler()\n",
    "df['rodada_normalizada'] = scaler.fit_transform(df[['rodada']])\n",
    "display(df[['rodada', 'rodada_normalizada']].head())"
   ]
  },
  {
   "cell_type": "code",
   "execution_count": null,
   "id": "bfe6edde",
   "metadata": {},
   "outputs": [],
   "source": [
    "# Etapa 11: Codificação de variáveis categóricas (One-Hot Encoding)\n",
    "df_encoded = pd.get_dummies(df, columns=['mandante_estado', 'visitante_estado'], prefix=['est_mand', 'est_vis'])\n",
    "print(\"Formato do DataFrame após One-Hot Encoding:\", df_encoded.shape)\n",
    "print(\"Exemplo de novas colunas criadas:\")\n",
    "print(list(df_encoded.columns[-5:])) # Mostra as últimas 5 colunas"
   ]
  },
  {
   "cell_type": "code",
   "execution_count": null,
   "id": "36e2739f",
   "metadata": {},
   "outputs": [],
   "source": [
    "# Etapa 12: Criação de matriz de correlação\n",
    "colunas_corr = ['rodada', 'mandante_placar', 'visitante_placar']\n",
    "matriz_correlacao = df[colunas_corr].corr()\n",
    "display(matriz_correlacao)"
   ]
  },
  {
   "cell_type": "code",
   "execution_count": null,
   "id": "66823a13",
   "metadata": {},
   "outputs": [],
   "source": [
    "# Etapa 13: Gráfico de dispersão (placar mandante vs. placar visitante)\n",
    "sns.scatterplot(data=df, x='mandante_placar', y='visitante_placar', alpha=0.6)\n",
    "plt.title('Placar Mandante vs. Placar Visitante', fontsize=16)\n",
    "plt.xlabel('Gols do Mandante')\n",
    "plt.ylabel('Gols do Visitante')\n",
    "plt.show()"
   ]
  },
  {
   "cell_type": "code",
   "execution_count": null,
   "id": "706d758d",
   "metadata": {},
   "outputs": [],
   "source": [
    "# Etapa 14: Filtragem de dados com base em uma condição\n",
    "jogos_flamengo_mandante = df[df['mandante'] == 'Flamengo']\n",
    "print(f\"Encontrados {len(jogos_flamengo_mandante)} jogos do Flamengo como mandante.\")\n",
    "display(jogos_flamengo_mandante.head())"
   ]
  },
  {
   "cell_type": "code",
   "execution_count": null,
   "id": "6247e909",
   "metadata": {},
   "outputs": [],
   "source": [
    "# Etapa 15: Exportação do DataFrame processado para CSV\n",
    "df.to_csv('campeonato_brasileiro_processado.csv', index=False)"
   ]
  },
  {
   "cell_type": "code",
   "execution_count": null,
   "id": "9df93b0b",
   "metadata": {},
   "outputs": [],
   "source": [
    "# Etapa 16: Conversão da coluna de datas e extração de novas colunas\n",
    "\n",
    "df['data'] = pd.to_datetime(df['data'], errors='coerce')\n",
    "df.dropna(subset=['data'], inplace=True) \n",
    "\n",
    "df['ano'] = df['data'].dt.year\n",
    "df['mes'] = df['data'].dt.month\n",
    "display(df[['data', 'ano', 'mes']].head())\n",
    "\n",
    "\n"
   ]
  },
  {
   "cell_type": "code",
   "execution_count": null,
   "id": "2f09d80b",
   "metadata": {},
   "outputs": [],
   "source": [
    "# Etapa 17: Agrupamento dos dados (número de vitórias por time)\n",
    "\n",
    "vitorias = df[df['vencedor'] != '-']\n",
    "contagem_vitorias = vitorias['vencedor'].value_counts()\n",
    "print(\"Contagem de vitórias por time (Top 10):\")\n",
    "display(contagem_vitorias.head(10))\n",
    "\n",
    "\n"
   ]
  },
  {
   "cell_type": "code",
   "execution_count": null,
   "id": "c6f9cf41",
   "metadata": {},
   "outputs": [],
   "source": [
    "# Etapa 18: Criação de colunas derivadas (diferença de gols)\n",
    "print(\"\\n### 18. Criando coluna derivada 'diferenca_gols' ###\")\n",
    "df['diferenca_gols'] = df['mandante_placar'] - df['visitante_placar']\n",
    "display(df[['mandante', 'visitante', 'mandante_placar', 'visitante_placar', 'diferenca_gols']].head())\n",
    "\n",
    "\n"
   ]
  },
  {
   "cell_type": "code",
   "execution_count": null,
   "id": "0a7c2095",
   "metadata": {},
   "outputs": [],
   "source": [
    "# Etapa 19: Visualização com gráficos de barras (número de vitórias por time)\n",
    "print(\"\\n### 19. Gráfico de barras com número de vitórias por time ###\")\n",
    "top_15_vitorias = contagem_vitorias.head(15)\n",
    "    \n",
    "sns.barplot(x=top_15_vitorias.values, y=top_15_vitorias.index, palette='viridis', orient='h')\n",
    "plt.title('Top 15 Times com Mais Vitórias no Campeonato Brasileiro', fontsize=16)\n",
    "plt.xlabel('Número de Vitórias')\n",
    "plt.ylabel('Time')\n",
    "plt.show()\n",
    "\n",
    "\n"
   ]
  },
  {
   "cell_type": "code",
   "execution_count": null,
   "id": "2bac7d26",
   "metadata": {},
   "outputs": [],
   "source": [
    "# Etapa 20: Heatmap da correlação para visualizar relações de forma mais clara\n",
    "\n",
    "plt.figure(figsize=(8, 6))\n",
    "sns.heatmap(matriz_correlacao, annot=True, cmap='coolwarm', fmt=\".2f\", linewidths=.5)\n",
    "plt.title('Heatmap de Correlação entre Rodada e Placares', fontsize=16)\n",
    "plt.show()"
   ]
  }
 ],
 "metadata": {
  "kernelspec": {
   "display_name": "Python 3",
   "language": "python",
   "name": "python3"
  },
  "language_info": {
   "codemirror_mode": {
    "name": "ipython",
    "version": 3
   },
   "file_extension": ".py",
   "mimetype": "text/x-python",
   "name": "python",
   "nbconvert_exporter": "python",
   "pygments_lexer": "ipython3",
   "version": "3.13.5"
  }
 },
 "nbformat": 4,
 "nbformat_minor": 5
}
